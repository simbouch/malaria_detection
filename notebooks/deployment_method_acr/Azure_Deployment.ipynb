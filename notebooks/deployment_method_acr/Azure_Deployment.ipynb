{
 "cells": [
  {
   "cell_type": "markdown",
   "id": "a1934470",
   "metadata": {},
   "source": [
    "\n",
    "# Azure Resource and Application Deployment Report\n",
    "\n",
    "This notebook provides a detailed, step-by-step guide to creating Azure resources and deploying a containerized application using Azure services. Each step includes the necessary commands and explanations. \n",
    "\n",
    "---\n"
   ]
  },
  {
   "cell_type": "markdown",
   "id": "868220fa",
   "metadata": {},
   "source": [
    "## Step 1: Log in to Azure"
   ]
  },
  {
   "cell_type": "code",
   "execution_count": null,
   "id": "c72da6e8",
   "metadata": {},
   "outputs": [],
   "source": [
    "\n",
    "# Log in to your Azure account\n",
    "az login\n"
   ]
  },
  {
   "cell_type": "markdown",
   "id": "f93a0136",
   "metadata": {},
   "source": [
    "\n",
    "This command logs you into your Azure account. Make sure you're authenticated and select the appropriate subscription if prompted.\n",
    "\n",
    "---\n"
   ]
  },
  {
   "cell_type": "markdown",
   "id": "28b77acc",
   "metadata": {},
   "source": [
    "## Step 2: Create a Resource Group"
   ]
  },
  {
   "cell_type": "code",
   "execution_count": null,
   "id": "9c00a511",
   "metadata": {},
   "outputs": [],
   "source": [
    "\n",
    "# Create a resource group in the East US region\n",
    "az group create --name bouchaib_cli_gr --location eastus\n"
   ]
  },
  {
   "cell_type": "markdown",
   "id": "23a20a03",
   "metadata": {},
   "source": [
    "\n",
    "A resource group is a logical container for managing related Azure resources. Replace `bouchaib_cli_gr` and `eastus` if you want a different name or region.\n",
    "\n",
    "---\n"
   ]
  },
  {
   "cell_type": "markdown",
   "id": "9b318d03",
   "metadata": {},
   "source": [
    "## Step 3: Create Azure Container Registry (ACR)"
   ]
  },
  {
   "cell_type": "code",
   "execution_count": null,
   "id": "3a22d129",
   "metadata": {},
   "outputs": [],
   "source": [
    "\n",
    "# Create an Azure Container Registry\n",
    "az acr create --resource-group bouchaib_cli_gr --name bouchaibacr --sku Basic --location eastus\n"
   ]
  },
  {
   "cell_type": "markdown",
   "id": "ae3f242b",
   "metadata": {},
   "source": [
    "\n",
    "Azure Container Registry (ACR) is used to store and manage your container images. Replace `bouchaibacr` with your preferred name.\n",
    "\n",
    "---\n"
   ]
  },
  {
   "cell_type": "markdown",
   "id": "2391961a",
   "metadata": {},
   "source": [
    "## Step 4: Enable Admin Access for ACR"
   ]
  },
  {
   "cell_type": "code",
   "execution_count": null,
   "id": "276029ec",
   "metadata": {},
   "outputs": [],
   "source": [
    "\n",
    "# Enable admin access for ACR\n",
    "az acr update -n bouchaibacr --admin-enabled true\n"
   ]
  },
  {
   "cell_type": "markdown",
   "id": "f693a177",
   "metadata": {},
   "source": [
    "\n",
    "This allows you to authenticate with ACR using admin credentials. Only enable it if needed.\n",
    "\n",
    "---\n"
   ]
  },
  {
   "cell_type": "markdown",
   "id": "1996ba09",
   "metadata": {},
   "source": [
    "## Step 5: Build Docker Image"
   ]
  },
  {
   "cell_type": "code",
   "execution_count": null,
   "id": "f60de5bf",
   "metadata": {},
   "outputs": [],
   "source": [
    "\n",
    "# Navigate to your project directory and build the Docker image\n",
    "docker build -t malaria_app .\n"
   ]
  },
  {
   "cell_type": "markdown",
   "id": "5c442c06",
   "metadata": {},
   "source": [
    "\n",
    "This builds your application image using the `Dockerfile` in the current directory. Replace `portfolio_project` with your preferred tag.\n",
    "\n",
    "---\n"
   ]
  },
  {
   "cell_type": "markdown",
   "id": "4f3e475a",
   "metadata": {},
   "source": [
    "## Step 6: Tag and Push Docker Image to ACR"
   ]
  },
  {
   "cell_type": "code",
   "execution_count": null,
   "id": "c779c8c0",
   "metadata": {},
   "outputs": [],
   "source": [
    "\n",
    "# Tag the Docker image for ACR\n",
    "docker tag portfolio_project bouchaibacr.azurecr.io/pmalaria_app:v1\n",
    "\n",
    "# Log in to ACR\n",
    "az acr login --name bouchaibacr\n",
    "\n",
    "# Push the image to ACR\n",
    "docker push bouchaibacr.azurecr.io/pomalaria_app:v1\n"
   ]
  },
  {
   "cell_type": "markdown",
   "id": "cf147f98",
   "metadata": {},
   "source": [
    "\n",
    "- Replace `malaria_app` and `v1` with your image name and version.\n",
    "- Verify the image is in ACR using:\n",
    "\n",
    "```bash\n",
    "az acr repository list --name bouchaibacr --output table\n",
    "```\n",
    "\n",
    "---\n"
   ]
  },
  {
   "cell_type": "markdown",
   "id": "4cb6fe6f",
   "metadata": {},
   "source": [
    "## Step 7: Deploy Container to Azure Container Instance (ACI)"
   ]
  },
  {
   "cell_type": "code",
   "execution_count": null,
   "id": "57c3ff34",
   "metadata": {},
   "outputs": [],
   "source": [
    "\n",
    "# Deploy container with public access\n",
    "az container create `\n",
    "  --resource-group bouchaib_cli_gr `\n",
    "  --name portfolio-container `\n",
    "  --image bouchaibacr.azurecr.io/pormalaria_app:v1 `\n",
    "  --os-type Linux `\n",
    "  --cpu 1 `\n",
    "  --memory 1 `\n",
    "  --ports 80 `\n",
    "  --ip-address Public `\n",
    "  --dns-name-label portfolio-app `\n",
    "  --registry-login-server bouchaibacr.azurecr.io `\n",
    "  --registry-username $(az acr credential show --name bouchaibacr --query \"username\" --output tsv) `\n",
    "  --registry-password $(az acr credential show --name bouchaibacr --query \"passwords[0].value\" --output tsv)\n"
   ]
  },
  {
   "cell_type": "markdown",
   "id": "0823785f",
   "metadata": {},
   "source": [
    "\n",
    "This deploys the container to Azure Container Instances (ACI) with public access and assigns a DNS name (`portfolio-app`). Replace the DNS name label as needed.\n",
    "\n",
    "---\n"
   ]
  },
  {
   "cell_type": "markdown",
   "id": "08e7629b",
   "metadata": {},
   "source": [
    "## Step 8: Verify Deployment"
   ]
  },
  {
   "cell_type": "code",
   "execution_count": null,
   "id": "711a6ba7",
   "metadata": {},
   "outputs": [],
   "source": [
    "\n",
    "# Check container status and get its public FQDN\n",
    "az container show --resource-group bouchaib_cli_gr --name malaria_app-container --query \"{Status:instanceView.state,FQDN:ipAddress.fqdn}\" --output table\n"
   ]
  },
  {
   "cell_type": "markdown",
   "id": "1a5da88e",
   "metadata": {},
   "source": [
    "\n",
    "- `Status` should be `Running`.\n",
    "- Copy the FQDN and open it in your browser to test the app.\n",
    "\n",
    "---\n"
   ]
  },
  {
   "cell_type": "markdown",
   "id": "524d183e",
   "metadata": {},
   "source": [
    "## Step 9: Clean Up Resources (Optional)"
   ]
  },
  {
   "cell_type": "code",
   "execution_count": null,
   "id": "51adbae3",
   "metadata": {},
   "outputs": [],
   "source": [
    "\n",
    "# Delete the container instance\n",
    "az container delete --resource-group bouchaib_cli_gr --name malaria_app-container --yes\n",
    "\n",
    "# Delete the resource group (including all resources inside)\n",
    "az group delete --name bouchaib_cli_gr --yes --no-wait\n"
   ]
  },
  {
   "cell_type": "markdown",
   "id": "71cc7e7f",
   "metadata": {},
   "source": [
    "\n",
    "Run these commands if you no longer need the resources to avoid incurring unnecessary costs.\n",
    "\n",
    "---\n"
   ]
  },
  {
   "cell_type": "markdown",
   "id": "8e82c9e0",
   "metadata": {},
   "source": [
    "to get to know the dns nom de demaine"
   ]
  },
  {
   "cell_type": "code",
   "execution_count": null,
   "id": "11adc8ab",
   "metadata": {},
   "outputs": [],
   "source": [
    "az container show --resource-group bouchaib_cli_gr --name malaria_app-container --query \"{FQDN:ipAddress.fqdn}\" --output table\n"
   ]
  }
 ],
 "metadata": {
  "language_info": {
   "name": "python"
  }
 },
 "nbformat": 4,
 "nbformat_minor": 5
}
